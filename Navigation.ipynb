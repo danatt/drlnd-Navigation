{
 "cells": [
  {
   "cell_type": "markdown",
   "metadata": {},
   "source": [
    "# Navigation\n",
    "\n",
    "---\n",
    "### Start a new Environment\n",
    "\n",
    "This notebook is written for Windows10 (x64) if you are using any other OS, please follow instruction in the **Getting Started** section in this [Repo](https://github.com/udacity/deep-reinforcement-learning/tree/master/p1_navigation) and change the *file_name* variable to match the location of the Unity environment that you downloaded.\n",
    "\n",
    "* **Mac:** \"path/to/Banana.app\"\n",
    "* **Windows:** (x86): \"path/to/Banana_Windows_x86/Banana.exe\"\n",
    "* **Windows:** (x86_64): \"path/to/Banana_Windows_x86_64/Banana.exe\"\n",
    "* **Linux:** (x86): \"path/to/Banana_Linux/Banana.x86\"\n",
    "* **Linux:** (x86_64): \"path/to/Banana_Linux/Banana.x86_64\"\n",
    "* **Linux:** (x86, headless): \"path/to/Banana_Linux_NoVis/Banana.x86\"\n",
    "* **Linux:** (x86_64, headless): \"path/to/Banana_Linux_NoVis/Banana.x86_64\""
   ]
  },
  {
   "cell_type": "code",
   "execution_count": 1,
   "metadata": {},
   "outputs": [
    {
     "name": "stderr",
     "output_type": "stream",
     "text": [
      "INFO:unityagents:\n",
      "'Academy' started successfully!\n",
      "Unity Academy name: Academy\n",
      "        Number of Brains: 1\n",
      "        Number of External Brains : 1\n",
      "        Lesson number : 0\n",
      "        Reset Parameters :\n",
      "\t\t\n",
      "Unity brain name: BananaBrain\n",
      "        Number of Visual Observations (per agent): 0\n",
      "        Vector Observation space type: continuous\n",
      "        Vector Observation space size (per agent): 37\n",
      "        Number of stacked Vector Observation: 1\n",
      "        Vector Action space type: discrete\n",
      "        Vector Action space size (per agent): 4\n",
      "        Vector Action descriptions: , , , \n"
     ]
    }
   ],
   "source": [
    "from unityagents import UnityEnvironment\n",
    "import numpy as np\n",
    "\n",
    "env = UnityEnvironment(file_name=\"Banana_Windows_x86_64/Banana.exe\")"
   ]
  },
  {
   "cell_type": "code",
   "execution_count": 2,
   "metadata": {
    "collapsed": true
   },
   "outputs": [],
   "source": [
    "# get the default brain\n",
    "brain_name = env.brain_names[0]\n",
    "brain = env.brains[brain_name]"
   ]
  },
  {
   "cell_type": "code",
   "execution_count": 3,
   "metadata": {},
   "outputs": [
    {
     "name": "stdout",
     "output_type": "stream",
     "text": [
      "Number of actions: 4\n",
      "States have length: 37\n"
     ]
    }
   ],
   "source": [
    "# reset the environment\n",
    "env_info = env.reset(train_mode=True)[brain_name]\n",
    "\n",
    "# number of actions\n",
    "action_size = brain.vector_action_space_size\n",
    "print('Number of actions:', action_size)\n",
    "\n",
    "# examine the state space \n",
    "state = env_info.vector_observations[0]\n",
    "state_size = len(state)\n",
    "print('States have length:', state_size)\n"
   ]
  },
  {
   "cell_type": "code",
   "execution_count": 4,
   "metadata": {
    "scrolled": false
   },
   "outputs": [
    {
     "name": "stdout",
     "output_type": "stream",
     "text": [
      "Episode 50\tAverage Score: 0.26\tEpsilon: 0.778\n",
      "Episode 100\tAverage Score: 0.74\tEpsilon: 0.606\n",
      "Episode 150\tAverage Score: 2.47\tEpsilon: 0.471\n",
      "Episode 200\tAverage Score: 4.64\tEpsilon: 0.367\n",
      "Episode 250\tAverage Score: 6.77\tEpsilon: 0.286\n",
      "Episode 300\tAverage Score: 8.47\tEpsilon: 0.222\n",
      "Episode 350\tAverage Score: 9.27\tEpsilon: 0.173\n",
      "Episode 400\tAverage Score: 10.13\tEpsilon: 0.135\n",
      "Episode 450\tAverage Score: 11.81\tEpsilon: 0.105\n",
      "Episode 498\tAverage Score: 13.03\n",
      "Environment solved in 498 episodes!\tAverage Score: 13.03\n",
      "Episode 500\tAverage Score: 12.97\tEpsilon: 0.082\n",
      "Episode 550\tAverage Score: 13.51\tEpsilon: 0.063\n",
      "Episode 600\tAverage Score: 13.94\tEpsilon: 0.049\n",
      "Episode 650\tAverage Score: 14.22\tEpsilon: 0.038\n",
      "Episode 700\tAverage Score: 14.78\tEpsilon: 0.030\n",
      "Episode 750\tAverage Score: 14.92\tEpsilon: 0.023\n",
      "Episode 800\tAverage Score: 15.09\tEpsilon: 0.018\n",
      "Episode 850\tAverage Score: 15.14\tEpsilon: 0.014\n",
      "Episode 900\tAverage Score: 15.27\tEpsilon: 0.011\n",
      "Episode 950\tAverage Score: 14.92\tEpsilon: 0.010\n",
      "Episode 1000\tAverage Score: 15.52\tEpsilon: 0.010\n"
     ]
    },
    {
     "data": {
      "image/png": "[encoded data removed]",
      "text/plain": [
       "<matplotlib.figure.Figure at 0x2721c945470>"
      ]
     },
     "metadata": {},
     "output_type": "display_data"
    }
   ],
   "source": [
    "%reload_ext autoreload\n",
    "%autoreload 2\n",
    "\n",
    "import torch\n",
    "import pandas as pd\n",
    "import matplotlib.pyplot as plt\n",
    "%matplotlib inline\n",
    "from collections import deque\n",
    "\n",
    "'''choose an agent to train & play with'''\n",
    "from dqn_agent import Agent\n",
    "#from double_dqn_agent import Agent\n",
    "#from dqn_agent_perbuffer import Agent\n",
    "\n",
    "agent = Agent(state_size=state_size, action_size=action_size, seed=0)\n",
    "\n",
    "\n",
    "def dqn(n_episodes=1000, eps_start=1.0, eps_end=0.01, eps_decay=0.995):\n",
    "    \"\"\"Deep Q-Learning.\n",
    "    \n",
    "    Params\n",
    "    ======\n",
    "        n_episodes (int): maximum number of training episodes\n",
    "        eps_start (float): starting value of epsilon, for epsilon-greedy action selection\n",
    "        eps_end (float): minimum value of epsilon\n",
    "        eps_decay (float): multiplicative factor (per episode) for decreasing epsilon\n",
    "    \"\"\"\n",
    "    scores = []                        # list containing scores from each episode\n",
    "    scores_window = deque(maxlen=100)  # last 100 scores\n",
    "    eps = eps_start                    # initialize epsilon\n",
    "    env_unsolved = True\n",
    "    \n",
    "    \n",
    "    for i_episode in range(1, n_episodes+1):\n",
    "        env_info = env.reset(train_mode=True)[brain_name]  # reset the environment\n",
    "        state = env_info.vector_observations[0]            # get the current state\n",
    "        score = 0                                          # initialize the score\n",
    "        \n",
    "        while True:\n",
    "            action = agent.act(state, eps)                 # select an action\n",
    "            env_info = env.step(int(action))[brain_name]   # perform the action\n",
    "            next_state = env_info.vector_observations[0]   # get next state\n",
    "            reward = env_info.rewards[0]                   # get reward\n",
    "            done = env_info.local_done[0]                  # check done   \n",
    "            \n",
    "            agent.step(state, action, reward, next_state, done)\n",
    "            \n",
    "            state = next_state\n",
    "            score += reward\n",
    "            if done:\n",
    "                break \n",
    "                \n",
    "        scores_window.append(score)       # save most recent score\n",
    "        scores.append(score)              # save most recent score\n",
    "        eps = max(eps_end, eps_decay*eps) # decrease epsilon\n",
    "        \n",
    "        print('\\rEpisode {}\\tAverage Score: {:.2f}'.format(i_episode, np.mean(scores_window)), end=\"\")\n",
    "        if i_episode % 50 == 0:\n",
    "            print('\\rEpisode {}\\tAverage Score: {:.2f}\\tEpsilon: {:.3f}'.format(i_episode, np.mean(scores_window), eps))\n",
    "            \n",
    "        if (np.mean(scores_window)>=13.0) & env_unsolved:\n",
    "            print('\\nEnvironment solved in {:d} episodes!\\tAverage Score: {:.2f}'.format(i_episode, np.mean(scores_window)))\n",
    "            env_unsolved = False\n",
    "        torch.save(agent.qnetwork_local.state_dict(), 'checkpoint.pth')\n",
    "    return scores\n",
    "\n",
    "scores = dqn()\n",
    "\n",
    "# plot the scores\n",
    "fig = plt.figure()\n",
    "ax = fig.add_subplot(111)\n",
    "plt.plot(np.arange(len(scores)), scores)\n",
    "plt.plot(np.arange(len(scores)), pd.DataFrame(scores).rolling(30).mean().shift(-30))\n",
    "plt.ylabel('Score')\n",
    "plt.xlabel('Episode #')\n",
    "plt.show()"
   ]
  }
 ],
 "metadata": {
  "kernelspec": {
   "display_name": "Python 3",
   "language": "python",
   "name": "python3"
  },
  "language_info": {
   "codemirror_mode": {
    "name": "ipython",
    "version": 3
   },
   "file_extension": ".py",
   "mimetype": "text/x-python",
   "name": "python",
   "nbconvert_exporter": "python",
   "pygments_lexer": "ipython3",
   "version": "3.6.1"
  }
 },
 "nbformat": 4,
 "nbformat_minor": 2
}
